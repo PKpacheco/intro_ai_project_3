{
  "nbformat": 4,
  "nbformat_minor": 0,
  "metadata": {
    "colab": {
      "provenance": [],
      "toc_visible": true,
      "authorship_tag": "ABX9TyPdR6SbCRURJyw227jYPO9i",
      "include_colab_link": true
    },
    "kernelspec": {
      "name": "python3",
      "display_name": "Python 3"
    },
    "language_info": {
      "name": "python"
    }
  },
  "cells": [
    {
      "cell_type": "markdown",
      "metadata": {
        "id": "view-in-github",
        "colab_type": "text"
      },
      "source": [
        "<a href=\"https://colab.research.google.com/github/PKpacheco/intro_ai_project_3/blob/main/Project_3_Intro_AI_Paola_Pacheco.ipynb\" target=\"_parent\"><img src=\"https://colab.research.google.com/assets/colab-badge.svg\" alt=\"Open In Colab\"/></a>"
      ]
    },
    {
      "cell_type": "markdown",
      "source": [
        "\n",
        "# Project 3: Text Classification-Spam and Ham and TF-IDF\n",
        "Intro to AI\n",
        "\\\n",
        "Instructor: Jeffrey Lanyon\n",
        "\\\n",
        "Student: Paola Katherine Pacheco\n"
      ],
      "metadata": {
        "id": "-XlSd9Cd1vkD"
      }
    },
    {
      "cell_type": "code",
      "source": [
        "# import libraries\n",
        "\n",
        "import math\n",
        "import matplotlib.pyplot as plt\n",
        "import pandas as pd\n",
        "import re\n",
        "\n",
        "\n",
        "from collections import Counter\n",
        "from sklearn.ensemble import RandomForestClassifier\n",
        "from sklearn.feature_extraction.text import (\n",
        "    CountVectorizer,\n",
        "    TfidfTransformer\n",
        "    )\n",
        "from sklearn.metrics import confusion_matrix\n",
        "from sklearn.model_selection import (\n",
        "     train_test_split,\n",
        "     cross_val_score,\n",
        "     GridSearchCV\n",
        "     )\n",
        "from sklearn.pipeline import Pipeline\n",
        "from sklearn.utils import shuffle\n",
        "\n",
        "import seaborn as sns\n",
        "\n",
        "\n",
        "\n"
      ],
      "metadata": {
        "id": "2ip1sSO2GrwC"
      },
      "execution_count": 110,
      "outputs": []
    },
    {
      "cell_type": "markdown",
      "source": [
        "#Task 1: Data Exploration\n"
      ],
      "metadata": {
        "id": "UchfXTwA1_UR"
      }
    },
    {
      "cell_type": "markdown",
      "source": [
        "## 1.1 The Data:\n",
        "###* Read in just the Psy file to your Jupyter Notebook. (1 point)\n"
      ],
      "metadata": {
        "id": "sGWNwQCK2KKf"
      }
    },
    {
      "cell_type": "code",
      "source": [
        "# get the psy url\n",
        "url_psy = 'https://raw.githubusercontent.com/PKpacheco/intro_ai_project_3/main/Youtube01-Psy.csv'"
      ],
      "metadata": {
        "id": "zyZfovjwGmd0"
      },
      "execution_count": 2,
      "outputs": []
    },
    {
      "cell_type": "code",
      "source": [
        "# read the file\n",
        "df_psy = pd.read_csv (url_psy )"
      ],
      "metadata": {
        "id": "-k6Yph7fG2PT"
      },
      "execution_count": 5,
      "outputs": []
    },
    {
      "cell_type": "code",
      "source": [
        "df_psy.info()"
      ],
      "metadata": {
        "colab": {
          "base_uri": "https://localhost:8080/"
        },
        "id": "RVB5IT2KHrQJ",
        "outputId": "2c263018-b15e-49d8-a10f-247058c9bffc"
      },
      "execution_count": 9,
      "outputs": [
        {
          "output_type": "stream",
          "name": "stdout",
          "text": [
            "<class 'pandas.core.frame.DataFrame'>\n",
            "RangeIndex: 350 entries, 0 to 349\n",
            "Data columns (total 5 columns):\n",
            " #   Column      Non-Null Count  Dtype \n",
            "---  ------      --------------  ----- \n",
            " 0   COMMENT_ID  350 non-null    object\n",
            " 1   AUTHOR      350 non-null    object\n",
            " 2   DATE        350 non-null    object\n",
            " 3   CONTENT     350 non-null    object\n",
            " 4   CLASS       350 non-null    int64 \n",
            "dtypes: int64(1), object(4)\n",
            "memory usage: 13.8+ KB\n"
          ]
        }
      ]
    },
    {
      "cell_type": "markdown",
      "source": [
        "### * Display the head and tail of the file. (1 point)\n"
      ],
      "metadata": {
        "id": "4vWVHqyv2W4L"
      }
    },
    {
      "cell_type": "code",
      "source": [
        "df_psy.head()"
      ],
      "metadata": {
        "colab": {
          "base_uri": "https://localhost:8080/",
          "height": 293
        },
        "id": "GHU0GrE6HY-T",
        "outputId": "64b54519-ed3d-4fd2-b596-48352dd30bc3"
      },
      "execution_count": 6,
      "outputs": [
        {
          "output_type": "execute_result",
          "data": {
            "text/plain": [
              "                                    COMMENT_ID            AUTHOR  \\\n",
              "0  LZQPQhLyRh80UYxNuaDWhIGQYNQ96IuCg-AYWqNPjpU         Julius NM   \n",
              "1  LZQPQhLyRh_C2cTtd9MvFRJedxydaVW-2sNg5Diuo4A       adam riyati   \n",
              "2  LZQPQhLyRh9MSZYnf8djyk0gEF9BHDPYrrK-qCczIY8  Evgeny Murashkin   \n",
              "3          z13jhp0bxqncu512g22wvzkasxmvvzjaz04   ElNino Melendez   \n",
              "4          z13fwbwp1oujthgqj04chlngpvzmtt3r3dw            GsMega   \n",
              "\n",
              "                  DATE                                            CONTENT  \\\n",
              "0  2013-11-07T06:20:48  Huh, anyway check out this you[tube] channel: ...   \n",
              "1  2013-11-07T12:37:15  Hey guys check out my new channel and our firs...   \n",
              "2  2013-11-08T17:34:21             just for test I have to say murdev.com   \n",
              "3  2013-11-09T08:28:43   me shaking my sexy ass on my channel enjoy ^_^ ﻿   \n",
              "4  2013-11-10T16:05:38            watch?v=vtaRGgvGtWQ   Check this out .﻿   \n",
              "\n",
              "   CLASS  \n",
              "0      1  \n",
              "1      1  \n",
              "2      1  \n",
              "3      1  \n",
              "4      1  "
            ],
            "text/html": [
              "\n",
              "  <div id=\"df-b20531a2-1554-460f-9528-b038350c1350\" class=\"colab-df-container\">\n",
              "    <div>\n",
              "<style scoped>\n",
              "    .dataframe tbody tr th:only-of-type {\n",
              "        vertical-align: middle;\n",
              "    }\n",
              "\n",
              "    .dataframe tbody tr th {\n",
              "        vertical-align: top;\n",
              "    }\n",
              "\n",
              "    .dataframe thead th {\n",
              "        text-align: right;\n",
              "    }\n",
              "</style>\n",
              "<table border=\"1\" class=\"dataframe\">\n",
              "  <thead>\n",
              "    <tr style=\"text-align: right;\">\n",
              "      <th></th>\n",
              "      <th>COMMENT_ID</th>\n",
              "      <th>AUTHOR</th>\n",
              "      <th>DATE</th>\n",
              "      <th>CONTENT</th>\n",
              "      <th>CLASS</th>\n",
              "    </tr>\n",
              "  </thead>\n",
              "  <tbody>\n",
              "    <tr>\n",
              "      <th>0</th>\n",
              "      <td>LZQPQhLyRh80UYxNuaDWhIGQYNQ96IuCg-AYWqNPjpU</td>\n",
              "      <td>Julius NM</td>\n",
              "      <td>2013-11-07T06:20:48</td>\n",
              "      <td>Huh, anyway check out this you[tube] channel: ...</td>\n",
              "      <td>1</td>\n",
              "    </tr>\n",
              "    <tr>\n",
              "      <th>1</th>\n",
              "      <td>LZQPQhLyRh_C2cTtd9MvFRJedxydaVW-2sNg5Diuo4A</td>\n",
              "      <td>adam riyati</td>\n",
              "      <td>2013-11-07T12:37:15</td>\n",
              "      <td>Hey guys check out my new channel and our firs...</td>\n",
              "      <td>1</td>\n",
              "    </tr>\n",
              "    <tr>\n",
              "      <th>2</th>\n",
              "      <td>LZQPQhLyRh9MSZYnf8djyk0gEF9BHDPYrrK-qCczIY8</td>\n",
              "      <td>Evgeny Murashkin</td>\n",
              "      <td>2013-11-08T17:34:21</td>\n",
              "      <td>just for test I have to say murdev.com</td>\n",
              "      <td>1</td>\n",
              "    </tr>\n",
              "    <tr>\n",
              "      <th>3</th>\n",
              "      <td>z13jhp0bxqncu512g22wvzkasxmvvzjaz04</td>\n",
              "      <td>ElNino Melendez</td>\n",
              "      <td>2013-11-09T08:28:43</td>\n",
              "      <td>me shaking my sexy ass on my channel enjoy ^_^ ﻿</td>\n",
              "      <td>1</td>\n",
              "    </tr>\n",
              "    <tr>\n",
              "      <th>4</th>\n",
              "      <td>z13fwbwp1oujthgqj04chlngpvzmtt3r3dw</td>\n",
              "      <td>GsMega</td>\n",
              "      <td>2013-11-10T16:05:38</td>\n",
              "      <td>watch?v=vtaRGgvGtWQ   Check this out .﻿</td>\n",
              "      <td>1</td>\n",
              "    </tr>\n",
              "  </tbody>\n",
              "</table>\n",
              "</div>\n",
              "    <div class=\"colab-df-buttons\">\n",
              "\n",
              "  <div class=\"colab-df-container\">\n",
              "    <button class=\"colab-df-convert\" onclick=\"convertToInteractive('df-b20531a2-1554-460f-9528-b038350c1350')\"\n",
              "            title=\"Convert this dataframe to an interactive table.\"\n",
              "            style=\"display:none;\">\n",
              "\n",
              "  <svg xmlns=\"http://www.w3.org/2000/svg\" height=\"24px\" viewBox=\"0 -960 960 960\">\n",
              "    <path d=\"M120-120v-720h720v720H120Zm60-500h600v-160H180v160Zm220 220h160v-160H400v160Zm0 220h160v-160H400v160ZM180-400h160v-160H180v160Zm440 0h160v-160H620v160ZM180-180h160v-160H180v160Zm440 0h160v-160H620v160Z\"/>\n",
              "  </svg>\n",
              "    </button>\n",
              "\n",
              "  <style>\n",
              "    .colab-df-container {\n",
              "      display:flex;\n",
              "      gap: 12px;\n",
              "    }\n",
              "\n",
              "    .colab-df-convert {\n",
              "      background-color: #E8F0FE;\n",
              "      border: none;\n",
              "      border-radius: 50%;\n",
              "      cursor: pointer;\n",
              "      display: none;\n",
              "      fill: #1967D2;\n",
              "      height: 32px;\n",
              "      padding: 0 0 0 0;\n",
              "      width: 32px;\n",
              "    }\n",
              "\n",
              "    .colab-df-convert:hover {\n",
              "      background-color: #E2EBFA;\n",
              "      box-shadow: 0px 1px 2px rgba(60, 64, 67, 0.3), 0px 1px 3px 1px rgba(60, 64, 67, 0.15);\n",
              "      fill: #174EA6;\n",
              "    }\n",
              "\n",
              "    .colab-df-buttons div {\n",
              "      margin-bottom: 4px;\n",
              "    }\n",
              "\n",
              "    [theme=dark] .colab-df-convert {\n",
              "      background-color: #3B4455;\n",
              "      fill: #D2E3FC;\n",
              "    }\n",
              "\n",
              "    [theme=dark] .colab-df-convert:hover {\n",
              "      background-color: #434B5C;\n",
              "      box-shadow: 0px 1px 3px 1px rgba(0, 0, 0, 0.15);\n",
              "      filter: drop-shadow(0px 1px 2px rgba(0, 0, 0, 0.3));\n",
              "      fill: #FFFFFF;\n",
              "    }\n",
              "  </style>\n",
              "\n",
              "    <script>\n",
              "      const buttonEl =\n",
              "        document.querySelector('#df-b20531a2-1554-460f-9528-b038350c1350 button.colab-df-convert');\n",
              "      buttonEl.style.display =\n",
              "        google.colab.kernel.accessAllowed ? 'block' : 'none';\n",
              "\n",
              "      async function convertToInteractive(key) {\n",
              "        const element = document.querySelector('#df-b20531a2-1554-460f-9528-b038350c1350');\n",
              "        const dataTable =\n",
              "          await google.colab.kernel.invokeFunction('convertToInteractive',\n",
              "                                                    [key], {});\n",
              "        if (!dataTable) return;\n",
              "\n",
              "        const docLinkHtml = 'Like what you see? Visit the ' +\n",
              "          '<a target=\"_blank\" href=https://colab.research.google.com/notebooks/data_table.ipynb>data table notebook</a>'\n",
              "          + ' to learn more about interactive tables.';\n",
              "        element.innerHTML = '';\n",
              "        dataTable['output_type'] = 'display_data';\n",
              "        await google.colab.output.renderOutput(dataTable, element);\n",
              "        const docLink = document.createElement('div');\n",
              "        docLink.innerHTML = docLinkHtml;\n",
              "        element.appendChild(docLink);\n",
              "      }\n",
              "    </script>\n",
              "  </div>\n",
              "\n",
              "\n",
              "<div id=\"df-de24035d-1b91-4df0-9541-e8b952426945\">\n",
              "  <button class=\"colab-df-quickchart\" onclick=\"quickchart('df-de24035d-1b91-4df0-9541-e8b952426945')\"\n",
              "            title=\"Suggest charts.\"\n",
              "            style=\"display:none;\">\n",
              "\n",
              "<svg xmlns=\"http://www.w3.org/2000/svg\" height=\"24px\"viewBox=\"0 0 24 24\"\n",
              "     width=\"24px\">\n",
              "    <g>\n",
              "        <path d=\"M19 3H5c-1.1 0-2 .9-2 2v14c0 1.1.9 2 2 2h14c1.1 0 2-.9 2-2V5c0-1.1-.9-2-2-2zM9 17H7v-7h2v7zm4 0h-2V7h2v10zm4 0h-2v-4h2v4z\"/>\n",
              "    </g>\n",
              "</svg>\n",
              "  </button>\n",
              "\n",
              "<style>\n",
              "  .colab-df-quickchart {\n",
              "      --bg-color: #E8F0FE;\n",
              "      --fill-color: #1967D2;\n",
              "      --hover-bg-color: #E2EBFA;\n",
              "      --hover-fill-color: #174EA6;\n",
              "      --disabled-fill-color: #AAA;\n",
              "      --disabled-bg-color: #DDD;\n",
              "  }\n",
              "\n",
              "  [theme=dark] .colab-df-quickchart {\n",
              "      --bg-color: #3B4455;\n",
              "      --fill-color: #D2E3FC;\n",
              "      --hover-bg-color: #434B5C;\n",
              "      --hover-fill-color: #FFFFFF;\n",
              "      --disabled-bg-color: #3B4455;\n",
              "      --disabled-fill-color: #666;\n",
              "  }\n",
              "\n",
              "  .colab-df-quickchart {\n",
              "    background-color: var(--bg-color);\n",
              "    border: none;\n",
              "    border-radius: 50%;\n",
              "    cursor: pointer;\n",
              "    display: none;\n",
              "    fill: var(--fill-color);\n",
              "    height: 32px;\n",
              "    padding: 0;\n",
              "    width: 32px;\n",
              "  }\n",
              "\n",
              "  .colab-df-quickchart:hover {\n",
              "    background-color: var(--hover-bg-color);\n",
              "    box-shadow: 0 1px 2px rgba(60, 64, 67, 0.3), 0 1px 3px 1px rgba(60, 64, 67, 0.15);\n",
              "    fill: var(--button-hover-fill-color);\n",
              "  }\n",
              "\n",
              "  .colab-df-quickchart-complete:disabled,\n",
              "  .colab-df-quickchart-complete:disabled:hover {\n",
              "    background-color: var(--disabled-bg-color);\n",
              "    fill: var(--disabled-fill-color);\n",
              "    box-shadow: none;\n",
              "  }\n",
              "\n",
              "  .colab-df-spinner {\n",
              "    border: 2px solid var(--fill-color);\n",
              "    border-color: transparent;\n",
              "    border-bottom-color: var(--fill-color);\n",
              "    animation:\n",
              "      spin 1s steps(1) infinite;\n",
              "  }\n",
              "\n",
              "  @keyframes spin {\n",
              "    0% {\n",
              "      border-color: transparent;\n",
              "      border-bottom-color: var(--fill-color);\n",
              "      border-left-color: var(--fill-color);\n",
              "    }\n",
              "    20% {\n",
              "      border-color: transparent;\n",
              "      border-left-color: var(--fill-color);\n",
              "      border-top-color: var(--fill-color);\n",
              "    }\n",
              "    30% {\n",
              "      border-color: transparent;\n",
              "      border-left-color: var(--fill-color);\n",
              "      border-top-color: var(--fill-color);\n",
              "      border-right-color: var(--fill-color);\n",
              "    }\n",
              "    40% {\n",
              "      border-color: transparent;\n",
              "      border-right-color: var(--fill-color);\n",
              "      border-top-color: var(--fill-color);\n",
              "    }\n",
              "    60% {\n",
              "      border-color: transparent;\n",
              "      border-right-color: var(--fill-color);\n",
              "    }\n",
              "    80% {\n",
              "      border-color: transparent;\n",
              "      border-right-color: var(--fill-color);\n",
              "      border-bottom-color: var(--fill-color);\n",
              "    }\n",
              "    90% {\n",
              "      border-color: transparent;\n",
              "      border-bottom-color: var(--fill-color);\n",
              "    }\n",
              "  }\n",
              "</style>\n",
              "\n",
              "  <script>\n",
              "    async function quickchart(key) {\n",
              "      const quickchartButtonEl =\n",
              "        document.querySelector('#' + key + ' button');\n",
              "      quickchartButtonEl.disabled = true;  // To prevent multiple clicks.\n",
              "      quickchartButtonEl.classList.add('colab-df-spinner');\n",
              "      try {\n",
              "        const charts = await google.colab.kernel.invokeFunction(\n",
              "            'suggestCharts', [key], {});\n",
              "      } catch (error) {\n",
              "        console.error('Error during call to suggestCharts:', error);\n",
              "      }\n",
              "      quickchartButtonEl.classList.remove('colab-df-spinner');\n",
              "      quickchartButtonEl.classList.add('colab-df-quickchart-complete');\n",
              "    }\n",
              "    (() => {\n",
              "      let quickchartButtonEl =\n",
              "        document.querySelector('#df-de24035d-1b91-4df0-9541-e8b952426945 button');\n",
              "      quickchartButtonEl.style.display =\n",
              "        google.colab.kernel.accessAllowed ? 'block' : 'none';\n",
              "    })();\n",
              "  </script>\n",
              "</div>\n",
              "    </div>\n",
              "  </div>\n"
            ]
          },
          "metadata": {},
          "execution_count": 6
        }
      ]
    },
    {
      "cell_type": "code",
      "source": [
        "df_psy.tail()"
      ],
      "metadata": {
        "colab": {
          "base_uri": "https://localhost:8080/",
          "height": 293
        },
        "id": "r6FUUuR1Hcj4",
        "outputId": "9038fb1d-fc8a-45e2-941c-15b2ac4927ee"
      },
      "execution_count": 7,
      "outputs": [
        {
          "output_type": "execute_result",
          "data": {
            "text/plain": [
              "                                COMMENT_ID  \\\n",
              "345      z13th1q4yzihf1bll23qxzpjeujterydj   \n",
              "346  z13fcn1wfpb5e51xe04chdxakpzgchyaxzo0k   \n",
              "347    z130zd5b3titudkoe04ccbeohojxuzppvbg   \n",
              "348    z12he50arvrkivl5u04cctawgxzkjfsjcc4   \n",
              "349  z13vhvu54u3ewpp5h04ccb4zuoardrmjlyk0k   \n",
              "\n",
              "                                   AUTHOR                 DATE  \\\n",
              "345                       Carmen Racasanu  2014-11-14T13:27:52   \n",
              "346                       diego mogrovejo  2014-11-14T13:28:08   \n",
              "347  BlueYetiPlayz -Call Of Duty and More  2015-05-23T13:04:32   \n",
              "348                          Photo Editor  2015-06-05T14:14:48   \n",
              "349                            Ray Benich  2015-06-05T18:05:16   \n",
              "\n",
              "                                               CONTENT  CLASS  \n",
              "345  How can this have 2 billion views when there's...      0  \n",
              "346         I don't now why I'm watching this in 2014﻿      0  \n",
              "347  subscribe to me for call of duty vids and give...      1  \n",
              "348  hi guys please my android photo editor downloa...      1  \n",
              "349  The first billion viewed this because they tho...      0  "
            ],
            "text/html": [
              "\n",
              "  <div id=\"df-b61fd905-a468-4240-8589-51425a1228b5\" class=\"colab-df-container\">\n",
              "    <div>\n",
              "<style scoped>\n",
              "    .dataframe tbody tr th:only-of-type {\n",
              "        vertical-align: middle;\n",
              "    }\n",
              "\n",
              "    .dataframe tbody tr th {\n",
              "        vertical-align: top;\n",
              "    }\n",
              "\n",
              "    .dataframe thead th {\n",
              "        text-align: right;\n",
              "    }\n",
              "</style>\n",
              "<table border=\"1\" class=\"dataframe\">\n",
              "  <thead>\n",
              "    <tr style=\"text-align: right;\">\n",
              "      <th></th>\n",
              "      <th>COMMENT_ID</th>\n",
              "      <th>AUTHOR</th>\n",
              "      <th>DATE</th>\n",
              "      <th>CONTENT</th>\n",
              "      <th>CLASS</th>\n",
              "    </tr>\n",
              "  </thead>\n",
              "  <tbody>\n",
              "    <tr>\n",
              "      <th>345</th>\n",
              "      <td>z13th1q4yzihf1bll23qxzpjeujterydj</td>\n",
              "      <td>Carmen Racasanu</td>\n",
              "      <td>2014-11-14T13:27:52</td>\n",
              "      <td>How can this have 2 billion views when there's...</td>\n",
              "      <td>0</td>\n",
              "    </tr>\n",
              "    <tr>\n",
              "      <th>346</th>\n",
              "      <td>z13fcn1wfpb5e51xe04chdxakpzgchyaxzo0k</td>\n",
              "      <td>diego mogrovejo</td>\n",
              "      <td>2014-11-14T13:28:08</td>\n",
              "      <td>I don't now why I'm watching this in 2014﻿</td>\n",
              "      <td>0</td>\n",
              "    </tr>\n",
              "    <tr>\n",
              "      <th>347</th>\n",
              "      <td>z130zd5b3titudkoe04ccbeohojxuzppvbg</td>\n",
              "      <td>BlueYetiPlayz -Call Of Duty and More</td>\n",
              "      <td>2015-05-23T13:04:32</td>\n",
              "      <td>subscribe to me for call of duty vids and give...</td>\n",
              "      <td>1</td>\n",
              "    </tr>\n",
              "    <tr>\n",
              "      <th>348</th>\n",
              "      <td>z12he50arvrkivl5u04cctawgxzkjfsjcc4</td>\n",
              "      <td>Photo Editor</td>\n",
              "      <td>2015-06-05T14:14:48</td>\n",
              "      <td>hi guys please my android photo editor downloa...</td>\n",
              "      <td>1</td>\n",
              "    </tr>\n",
              "    <tr>\n",
              "      <th>349</th>\n",
              "      <td>z13vhvu54u3ewpp5h04ccb4zuoardrmjlyk0k</td>\n",
              "      <td>Ray Benich</td>\n",
              "      <td>2015-06-05T18:05:16</td>\n",
              "      <td>The first billion viewed this because they tho...</td>\n",
              "      <td>0</td>\n",
              "    </tr>\n",
              "  </tbody>\n",
              "</table>\n",
              "</div>\n",
              "    <div class=\"colab-df-buttons\">\n",
              "\n",
              "  <div class=\"colab-df-container\">\n",
              "    <button class=\"colab-df-convert\" onclick=\"convertToInteractive('df-b61fd905-a468-4240-8589-51425a1228b5')\"\n",
              "            title=\"Convert this dataframe to an interactive table.\"\n",
              "            style=\"display:none;\">\n",
              "\n",
              "  <svg xmlns=\"http://www.w3.org/2000/svg\" height=\"24px\" viewBox=\"0 -960 960 960\">\n",
              "    <path d=\"M120-120v-720h720v720H120Zm60-500h600v-160H180v160Zm220 220h160v-160H400v160Zm0 220h160v-160H400v160ZM180-400h160v-160H180v160Zm440 0h160v-160H620v160ZM180-180h160v-160H180v160Zm440 0h160v-160H620v160Z\"/>\n",
              "  </svg>\n",
              "    </button>\n",
              "\n",
              "  <style>\n",
              "    .colab-df-container {\n",
              "      display:flex;\n",
              "      gap: 12px;\n",
              "    }\n",
              "\n",
              "    .colab-df-convert {\n",
              "      background-color: #E8F0FE;\n",
              "      border: none;\n",
              "      border-radius: 50%;\n",
              "      cursor: pointer;\n",
              "      display: none;\n",
              "      fill: #1967D2;\n",
              "      height: 32px;\n",
              "      padding: 0 0 0 0;\n",
              "      width: 32px;\n",
              "    }\n",
              "\n",
              "    .colab-df-convert:hover {\n",
              "      background-color: #E2EBFA;\n",
              "      box-shadow: 0px 1px 2px rgba(60, 64, 67, 0.3), 0px 1px 3px 1px rgba(60, 64, 67, 0.15);\n",
              "      fill: #174EA6;\n",
              "    }\n",
              "\n",
              "    .colab-df-buttons div {\n",
              "      margin-bottom: 4px;\n",
              "    }\n",
              "\n",
              "    [theme=dark] .colab-df-convert {\n",
              "      background-color: #3B4455;\n",
              "      fill: #D2E3FC;\n",
              "    }\n",
              "\n",
              "    [theme=dark] .colab-df-convert:hover {\n",
              "      background-color: #434B5C;\n",
              "      box-shadow: 0px 1px 3px 1px rgba(0, 0, 0, 0.15);\n",
              "      filter: drop-shadow(0px 1px 2px rgba(0, 0, 0, 0.3));\n",
              "      fill: #FFFFFF;\n",
              "    }\n",
              "  </style>\n",
              "\n",
              "    <script>\n",
              "      const buttonEl =\n",
              "        document.querySelector('#df-b61fd905-a468-4240-8589-51425a1228b5 button.colab-df-convert');\n",
              "      buttonEl.style.display =\n",
              "        google.colab.kernel.accessAllowed ? 'block' : 'none';\n",
              "\n",
              "      async function convertToInteractive(key) {\n",
              "        const element = document.querySelector('#df-b61fd905-a468-4240-8589-51425a1228b5');\n",
              "        const dataTable =\n",
              "          await google.colab.kernel.invokeFunction('convertToInteractive',\n",
              "                                                    [key], {});\n",
              "        if (!dataTable) return;\n",
              "\n",
              "        const docLinkHtml = 'Like what you see? Visit the ' +\n",
              "          '<a target=\"_blank\" href=https://colab.research.google.com/notebooks/data_table.ipynb>data table notebook</a>'\n",
              "          + ' to learn more about interactive tables.';\n",
              "        element.innerHTML = '';\n",
              "        dataTable['output_type'] = 'display_data';\n",
              "        await google.colab.output.renderOutput(dataTable, element);\n",
              "        const docLink = document.createElement('div');\n",
              "        docLink.innerHTML = docLinkHtml;\n",
              "        element.appendChild(docLink);\n",
              "      }\n",
              "    </script>\n",
              "  </div>\n",
              "\n",
              "\n",
              "<div id=\"df-3790a668-48a6-4c9f-afc3-33ffd9c95fbb\">\n",
              "  <button class=\"colab-df-quickchart\" onclick=\"quickchart('df-3790a668-48a6-4c9f-afc3-33ffd9c95fbb')\"\n",
              "            title=\"Suggest charts.\"\n",
              "            style=\"display:none;\">\n",
              "\n",
              "<svg xmlns=\"http://www.w3.org/2000/svg\" height=\"24px\"viewBox=\"0 0 24 24\"\n",
              "     width=\"24px\">\n",
              "    <g>\n",
              "        <path d=\"M19 3H5c-1.1 0-2 .9-2 2v14c0 1.1.9 2 2 2h14c1.1 0 2-.9 2-2V5c0-1.1-.9-2-2-2zM9 17H7v-7h2v7zm4 0h-2V7h2v10zm4 0h-2v-4h2v4z\"/>\n",
              "    </g>\n",
              "</svg>\n",
              "  </button>\n",
              "\n",
              "<style>\n",
              "  .colab-df-quickchart {\n",
              "      --bg-color: #E8F0FE;\n",
              "      --fill-color: #1967D2;\n",
              "      --hover-bg-color: #E2EBFA;\n",
              "      --hover-fill-color: #174EA6;\n",
              "      --disabled-fill-color: #AAA;\n",
              "      --disabled-bg-color: #DDD;\n",
              "  }\n",
              "\n",
              "  [theme=dark] .colab-df-quickchart {\n",
              "      --bg-color: #3B4455;\n",
              "      --fill-color: #D2E3FC;\n",
              "      --hover-bg-color: #434B5C;\n",
              "      --hover-fill-color: #FFFFFF;\n",
              "      --disabled-bg-color: #3B4455;\n",
              "      --disabled-fill-color: #666;\n",
              "  }\n",
              "\n",
              "  .colab-df-quickchart {\n",
              "    background-color: var(--bg-color);\n",
              "    border: none;\n",
              "    border-radius: 50%;\n",
              "    cursor: pointer;\n",
              "    display: none;\n",
              "    fill: var(--fill-color);\n",
              "    height: 32px;\n",
              "    padding: 0;\n",
              "    width: 32px;\n",
              "  }\n",
              "\n",
              "  .colab-df-quickchart:hover {\n",
              "    background-color: var(--hover-bg-color);\n",
              "    box-shadow: 0 1px 2px rgba(60, 64, 67, 0.3), 0 1px 3px 1px rgba(60, 64, 67, 0.15);\n",
              "    fill: var(--button-hover-fill-color);\n",
              "  }\n",
              "\n",
              "  .colab-df-quickchart-complete:disabled,\n",
              "  .colab-df-quickchart-complete:disabled:hover {\n",
              "    background-color: var(--disabled-bg-color);\n",
              "    fill: var(--disabled-fill-color);\n",
              "    box-shadow: none;\n",
              "  }\n",
              "\n",
              "  .colab-df-spinner {\n",
              "    border: 2px solid var(--fill-color);\n",
              "    border-color: transparent;\n",
              "    border-bottom-color: var(--fill-color);\n",
              "    animation:\n",
              "      spin 1s steps(1) infinite;\n",
              "  }\n",
              "\n",
              "  @keyframes spin {\n",
              "    0% {\n",
              "      border-color: transparent;\n",
              "      border-bottom-color: var(--fill-color);\n",
              "      border-left-color: var(--fill-color);\n",
              "    }\n",
              "    20% {\n",
              "      border-color: transparent;\n",
              "      border-left-color: var(--fill-color);\n",
              "      border-top-color: var(--fill-color);\n",
              "    }\n",
              "    30% {\n",
              "      border-color: transparent;\n",
              "      border-left-color: var(--fill-color);\n",
              "      border-top-color: var(--fill-color);\n",
              "      border-right-color: var(--fill-color);\n",
              "    }\n",
              "    40% {\n",
              "      border-color: transparent;\n",
              "      border-right-color: var(--fill-color);\n",
              "      border-top-color: var(--fill-color);\n",
              "    }\n",
              "    60% {\n",
              "      border-color: transparent;\n",
              "      border-right-color: var(--fill-color);\n",
              "    }\n",
              "    80% {\n",
              "      border-color: transparent;\n",
              "      border-right-color: var(--fill-color);\n",
              "      border-bottom-color: var(--fill-color);\n",
              "    }\n",
              "    90% {\n",
              "      border-color: transparent;\n",
              "      border-bottom-color: var(--fill-color);\n",
              "    }\n",
              "  }\n",
              "</style>\n",
              "\n",
              "  <script>\n",
              "    async function quickchart(key) {\n",
              "      const quickchartButtonEl =\n",
              "        document.querySelector('#' + key + ' button');\n",
              "      quickchartButtonEl.disabled = true;  // To prevent multiple clicks.\n",
              "      quickchartButtonEl.classList.add('colab-df-spinner');\n",
              "      try {\n",
              "        const charts = await google.colab.kernel.invokeFunction(\n",
              "            'suggestCharts', [key], {});\n",
              "      } catch (error) {\n",
              "        console.error('Error during call to suggestCharts:', error);\n",
              "      }\n",
              "      quickchartButtonEl.classList.remove('colab-df-spinner');\n",
              "      quickchartButtonEl.classList.add('colab-df-quickchart-complete');\n",
              "    }\n",
              "    (() => {\n",
              "      let quickchartButtonEl =\n",
              "        document.querySelector('#df-3790a668-48a6-4c9f-afc3-33ffd9c95fbb button');\n",
              "      quickchartButtonEl.style.display =\n",
              "        google.colab.kernel.accessAllowed ? 'block' : 'none';\n",
              "    })();\n",
              "  </script>\n",
              "</div>\n",
              "    </div>\n",
              "  </div>\n"
            ]
          },
          "metadata": {},
          "execution_count": 7
        }
      ]
    },
    {
      "cell_type": "markdown",
      "source": [
        "###* Give the number of rows in the file. (1 point)\n"
      ],
      "metadata": {
        "id": "1PjI4CpG2Yqs"
      }
    },
    {
      "cell_type": "code",
      "source": [
        "num_rows = df_psy.shape[0]\n",
        "print(\"Number of rows in the file:\", num_rows)"
      ],
      "metadata": {
        "colab": {
          "base_uri": "https://localhost:8080/"
        },
        "id": "-aZCbLeMHlDC",
        "outputId": "9add3952-8f08-4fc7-fa7f-2eb886e30b8c"
      },
      "execution_count": 8,
      "outputs": [
        {
          "output_type": "stream",
          "name": "stdout",
          "text": [
            "Number of rows in the file: 350\n"
          ]
        }
      ]
    },
    {
      "cell_type": "markdown",
      "source": [
        "### * Display the number of spam and ham comments for the file. (2 points)\n"
      ],
      "metadata": {
        "id": "5fJ90q1A2aA9"
      }
    },
    {
      "cell_type": "code",
      "source": [
        "spam_count = df_psy[df_psy['CLASS'] == 1].shape[0]\n",
        "ham_count = df_psy[df_psy['CLASS'] == 0].shape[0]\n",
        "\n",
        "print(\"Number of spam comments:\", spam_count)\n",
        "print(\"Number of ham comments:\", ham_count)\n"
      ],
      "metadata": {
        "colab": {
          "base_uri": "https://localhost:8080/"
        },
        "id": "MG3cQrthHy-u",
        "outputId": "ed3bb4dc-06b7-444d-80d1-db2729670c26"
      },
      "execution_count": 10,
      "outputs": [
        {
          "output_type": "stream",
          "name": "stdout",
          "text": [
            "Number of spam comments: 175\n",
            "Number of ham comments: 175\n"
          ]
        }
      ]
    },
    {
      "cell_type": "markdown",
      "source": [
        "###* Discuss the balance of the dataset and the balance of the classes spam/ham Based on this, what sort of classifiers are appropriate for the task? (3 marks)"
      ],
      "metadata": {
        "id": "M7HgnraI2bdr"
      }
    },
    {
      "cell_type": "markdown",
      "source": [
        "This dataset is perfectly balanced, it has the same number of spam and ham comments, both classes have the same number of entries.\n",
        "This implies a dataset that works very well for classification since, as the classes are in balance, none will have a disadvantage during training.\n",
        "I believe that models such as decision trees, random forest, svm can be options for balanced data and text classification"
      ],
      "metadata": {
        "id": "W5BJTE_rI0Ya"
      }
    },
    {
      "cell_type": "markdown",
      "source": [
        "## 1.2 Data Transformation:\n"
      ],
      "metadata": {
        "id": "7OZwzU7d2cHj"
      }
    },
    {
      "cell_type": "markdown",
      "source": [
        "### * Create a bag-of-words for the Psy file. The fit and transform should be done on the ‘CONTENT’ of your data. (2 points)\n"
      ],
      "metadata": {
        "id": "EugaAroisyWn"
      }
    },
    {
      "cell_type": "code",
      "source": [
        "vectorizer = CountVectorizer()\n",
        "\n",
        "# fit the 'CONTENT' column\n",
        "X_bow = vectorizer.fit_transform(df_psy['CONTENT'])"
      ],
      "metadata": {
        "id": "5kM4TsqUJtu5"
      },
      "execution_count": 12,
      "outputs": []
    },
    {
      "cell_type": "markdown",
      "source": [
        "### * Display the matrix information. For example. (2 points)\n"
      ],
      "metadata": {
        "id": "qofzC8Gps0EX"
      }
    },
    {
      "cell_type": "code",
      "source": [
        "X_bow"
      ],
      "metadata": {
        "colab": {
          "base_uri": "https://localhost:8080/"
        },
        "id": "xMmzV1HmJ4rw",
        "outputId": "e8287a9f-90fb-41fb-8cd4-859ae24f79e9"
      },
      "execution_count": 13,
      "outputs": [
        {
          "output_type": "execute_result",
          "data": {
            "text/plain": [
              "<350x1418 sparse matrix of type '<class 'numpy.int64'>'\n",
              "\twith 4354 stored elements in Compressed Sparse Row format>"
            ]
          },
          "metadata": {},
          "execution_count": 13
        }
      ]
    },
    {
      "cell_type": "markdown",
      "source": [
        "### * How many different words are in your bag of words? (1 point)\n"
      ],
      "metadata": {
        "id": "IftBi-PGs1GG"
      }
    },
    {
      "cell_type": "markdown",
      "source": [
        "1418 words\n",
        "We have (350, 1418), 350 rows and 1418 columns (features), different words"
      ],
      "metadata": {
        "id": "NKlv7xwpKNOk"
      }
    },
    {
      "cell_type": "markdown",
      "source": [
        "###* Display the 349th comment in the Psy file. (2 points)\n"
      ],
      "metadata": {
        "id": "G_87Gl_us19E"
      }
    },
    {
      "cell_type": "code",
      "source": [
        "# considering 0 index\n",
        "comment_349 = df_psy.loc[348, 'CONTENT']\n",
        "print(comment_349)"
      ],
      "metadata": {
        "colab": {
          "base_uri": "https://localhost:8080/"
        },
        "id": "hVN2fhO-K2ID",
        "outputId": "0fbcc434-032f-4ff5-caa1-b40c973fe82f"
      },
      "execution_count": 14,
      "outputs": [
        {
          "output_type": "stream",
          "name": "stdout",
          "text": [
            "hi guys please my android photo editor download. thanks https://play.google.com/store/apps/details?id=com.butalabs.photo.editor﻿\n"
          ]
        }
      ]
    },
    {
      "cell_type": "markdown",
      "source": [
        "###* Using ’analyze’ ,or something similar, give the breakdown of the 349th comment. (2 points)"
      ],
      "metadata": {
        "id": "msbyDa6Cs25d"
      }
    },
    {
      "cell_type": "code",
      "source": [
        "# build_analyzer method to get the word breakdown\n",
        "word_breakdown = vectorizer.build_analyzer()\n",
        "\n",
        "breakdown_349 = word_breakdown(comment_349)\n",
        "\n",
        "print(breakdown_349)"
      ],
      "metadata": {
        "colab": {
          "base_uri": "https://localhost:8080/"
        },
        "id": "hm3N7erWLRxf",
        "outputId": "556c8612-a763-4a99-d63c-8f265332be24"
      },
      "execution_count": 19,
      "outputs": [
        {
          "output_type": "stream",
          "name": "stdout",
          "text": [
            "['hi', 'guys', 'please', 'my', 'android', 'photo', 'editor', 'download', 'thanks', 'https', 'play', 'google', 'com', 'store', 'apps', 'details', 'id', 'com', 'butalabs', 'photo', 'editor']\n"
          ]
        }
      ]
    },
    {
      "cell_type": "markdown",
      "source": [
        "#2.Training and Testing Sets\n",
        "\n",
        "\n"
      ],
      "metadata": {
        "id": "kPUR99ATs56s"
      }
    },
    {
      "cell_type": "markdown",
      "source": [
        "###* Shuffle your dataset(frac=1). (1 point)\n"
      ],
      "metadata": {
        "id": "-hezBKX9EDZs"
      }
    },
    {
      "cell_type": "code",
      "source": [
        "# Shuffle the dataset and using the randomstate =42\n",
        "df_psy_shuffled = df_psy.sample(frac=1, random_state=42)"
      ],
      "metadata": {
        "id": "wDo86kChLdEX"
      },
      "execution_count": 20,
      "outputs": []
    },
    {
      "cell_type": "markdown",
      "source": [
        "###* Create your training and testing splits by using the first 300 entries for training and the remaining for testing. Name them appropriately. (3 points)\n"
      ],
      "metadata": {
        "id": "kIkZprYRD2dq"
      }
    },
    {
      "cell_type": "code",
      "source": [
        "df_psy.info()"
      ],
      "metadata": {
        "colab": {
          "base_uri": "https://localhost:8080/"
        },
        "id": "Yt6qAkUBMK0v",
        "outputId": "c57fa2f1-e88e-4bdb-8bdc-e0ae6ec3cf25"
      },
      "execution_count": 22,
      "outputs": [
        {
          "output_type": "stream",
          "name": "stdout",
          "text": [
            "<class 'pandas.core.frame.DataFrame'>\n",
            "RangeIndex: 350 entries, 0 to 349\n",
            "Data columns (total 5 columns):\n",
            " #   Column      Non-Null Count  Dtype \n",
            "---  ------      --------------  ----- \n",
            " 0   COMMENT_ID  350 non-null    object\n",
            " 1   AUTHOR      350 non-null    object\n",
            " 2   DATE        350 non-null    object\n",
            " 3   CONTENT     350 non-null    object\n",
            " 4   CLASS       350 non-null    int64 \n",
            "dtypes: int64(1), object(4)\n",
            "memory usage: 13.8+ KB\n"
          ]
        }
      ]
    },
    {
      "cell_type": "code",
      "source": [
        "X = df_psy_shuffled['CONTENT']\n",
        "y = df_psy_shuffled['CLASS']\n",
        "\n",
        "# split the data, get 300 for traning and rest for test\n",
        "X_train, X_test, y_train, y_test = train_test_split(X, y, test_size=50, random_state=42)"
      ],
      "metadata": {
        "id": "0S0FyY0mLuh5"
      },
      "execution_count": 23,
      "outputs": []
    },
    {
      "cell_type": "code",
      "source": [
        "print(\"Shape of X_train:\", X_train.shape)\n",
        "print(\"Shape of X_test:\", X_test.shape)\n",
        "print(\"Shape of y_train:\", y_train.shape)\n",
        "print(\"Shape of y_test:\", y_test.shape)"
      ],
      "metadata": {
        "colab": {
          "base_uri": "https://localhost:8080/"
        },
        "id": "qCyVALjQMRr5",
        "outputId": "9142f5e9-51a8-4726-cb92-0e22b034023c"
      },
      "execution_count": 25,
      "outputs": [
        {
          "output_type": "stream",
          "name": "stdout",
          "text": [
            "Shape of X_train: (300,)\n",
            "Shape of X_test: (50,)\n",
            "Shape of y_train: (300,)\n",
            "Shape of y_test: (50,)\n"
          ]
        }
      ]
    },
    {
      "cell_type": "markdown",
      "source": [
        "###* Create your training and testing attributes BOW. Name them appropriately. (2 points)\n"
      ],
      "metadata": {
        "id": "qzeJ7tjtEQwN"
      }
    },
    {
      "cell_type": "code",
      "source": [
        "# vectorizer\n",
        "X_train_bow = vectorizer.transform(X_train)\n",
        "X_test_bow = vectorizer.transform(X_test)\n"
      ],
      "metadata": {
        "id": "Lbtm8CH3MsgB"
      },
      "execution_count": 26,
      "outputs": []
    },
    {
      "cell_type": "markdown",
      "source": [
        "###* Create your training and testing labels. Name them appropriately. (2 points)\n"
      ],
      "metadata": {
        "id": "4I3hUskNER31"
      }
    },
    {
      "cell_type": "code",
      "source": [
        "y_train_labels = y_train\n",
        "y_test_labels = y_test"
      ],
      "metadata": {
        "id": "I6PMTlc5M49N"
      },
      "execution_count": 27,
      "outputs": []
    },
    {
      "cell_type": "markdown",
      "source": [
        "###* Output the matrix information of d_train_att and d_test_att. What are the dimensions of the matrices? (3 points)"
      ],
      "metadata": {
        "id": "7vcgh8j9ESzx"
      }
    },
    {
      "cell_type": "code",
      "source": [
        "# Get the matrix information and dimensions of them\n",
        "train_att_shape = X_train_bow.shape\n",
        "test_att_shape = X_test_bow.shape\n",
        "train_att_dtype = X_train_bow.dtype\n",
        "test_att_dtype = X_test_bow.dtype\n",
        "\n",
        "print(\"Matrix information for X_train_bow:\")\n",
        "print(\"Dimensions:\", train_att_shape)\n",
        "\n",
        "print(\"\\nMatrix information for X_test_bow:\")\n",
        "print(\"Dimensions:\", test_att_shape)\n"
      ],
      "metadata": {
        "colab": {
          "base_uri": "https://localhost:8080/"
        },
        "id": "nvW96c7oNAJh",
        "outputId": "2b3102d8-6aa8-41ae-cb62-a7d5d691bd99"
      },
      "execution_count": 30,
      "outputs": [
        {
          "output_type": "stream",
          "name": "stdout",
          "text": [
            "Matrix information for X_train_bow:\n",
            "Dimensions: (300, 1418)\n",
            "\n",
            "Matrix information for X_test_bow:\n",
            "Dimensions: (50, 1418)\n"
          ]
        }
      ]
    },
    {
      "cell_type": "markdown",
      "source": [
        "#3.Random Forest Classifier"
      ],
      "metadata": {
        "id": "hAa8GSPlEV5F"
      }
    },
    {
      "cell_type": "markdown",
      "source": [
        "###* Implement a Random Forest classifier. With 50 trees, output. (3 points)\n"
      ],
      "metadata": {
        "id": "SMEZPTgYEZnL"
      }
    },
    {
      "cell_type": "code",
      "source": [
        "# init with 50 trees output\n",
        "rf_classifier = RandomForestClassifier(n_estimators=50, random_state=42)"
      ],
      "metadata": {
        "id": "qLpw6-1JNnZb"
      },
      "execution_count": 32,
      "outputs": []
    },
    {
      "cell_type": "markdown",
      "source": [
        "###* Train the classifier on the training data and test its performance on the testing data.(2 points)\n"
      ],
      "metadata": {
        "id": "OSPhRSrtEenF"
      }
    },
    {
      "cell_type": "code",
      "source": [
        "# fit training data\n",
        "rf_classifier.fit(X_train_bow, y_train_labels)\n",
        "\n",
        "# predict for testing data\n",
        "y_pred = rf_classifier.predict(X_test_bow)\n",
        "\n",
        "# training accuracy\n",
        "train_accuracy = rf_classifier.score(X_train_bow, y_train_labels)\n",
        "\n",
        "# test accuracy\n",
        "test_accuracy = rf_classifier.score(X_test_bow, y_test_labels)"
      ],
      "metadata": {
        "id": "XQIEI_5-Ny9f"
      },
      "execution_count": 33,
      "outputs": []
    },
    {
      "cell_type": "markdown",
      "source": [
        "###* Print the training and testing accuracies. (2 points)\n"
      ],
      "metadata": {
        "id": "VVXOP_XHEfcD"
      }
    },
    {
      "cell_type": "code",
      "source": [
        "print(\"-----------------------Random Forest Classifier Performance:\")\n",
        "print(\"Training Accuracy:\", train_accuracy)\n",
        "print(\"Test Accuracy:\", test_accuracy)"
      ],
      "metadata": {
        "colab": {
          "base_uri": "https://localhost:8080/"
        },
        "id": "0uZap09qOGPs",
        "outputId": "32fea1ae-edb3-4dae-e3b6-872418ca7291"
      },
      "execution_count": 34,
      "outputs": [
        {
          "output_type": "stream",
          "name": "stdout",
          "text": [
            "-----------------------Random Forest Classifier Performance:\n",
            "Training Accuracy: 1.0\n",
            "Test Accuracy: 0.9\n"
          ]
        }
      ]
    },
    {
      "cell_type": "markdown",
      "source": [
        "###* Cross validate using 3 folds. Output the accuracies of the folds. (3 points)\n"
      ],
      "metadata": {
        "id": "dnLizAiUEgX9"
      }
    },
    {
      "cell_type": "code",
      "source": [
        "\n",
        "# 3 folds cross-validation\n",
        "cv_accuracies = cross_val_score(rf_classifier, X_train_bow, y_train_labels, cv=3)\n",
        "\n",
        "print(\"------------------------Cross-Validation Accuracies with 3 Folds:\")\n",
        "for fold, accuracy in enumerate(cv_accuracies, 1):\n",
        "    print(f\"Fold {fold}: {accuracy:.4f}\")"
      ],
      "metadata": {
        "colab": {
          "base_uri": "https://localhost:8080/"
        },
        "id": "snqrtFOqOp5Q",
        "outputId": "79d0ba0a-695e-47e3-8164-0d73b1b79833"
      },
      "execution_count": 37,
      "outputs": [
        {
          "output_type": "stream",
          "name": "stdout",
          "text": [
            "------------------------Cross-Validation Accuracies with 3 Folds:\n",
            "Fold 1: 0.9600\n",
            "Fold 2: 0.9600\n",
            "Fold 3: 0.9400\n"
          ]
        }
      ]
    },
    {
      "cell_type": "markdown",
      "source": [
        "The accuracy for cross validation is very high, this means that for the test set the model works well and consistently"
      ],
      "metadata": {
        "id": "ddqWmwf9Pbn1"
      }
    },
    {
      "cell_type": "markdown",
      "source": [
        "###* Generate a confusion matrix for the Random Forest classifier's predictions on thetest data. (3 points)\n"
      ],
      "metadata": {
        "id": "fWssxfMKEhQz"
      }
    },
    {
      "cell_type": "code",
      "source": [
        "# create the confusion matrix\n",
        "conf_mat = confusion_matrix(y_test_labels, y_pred)"
      ],
      "metadata": {
        "id": "KId2-_LCPiI9"
      },
      "execution_count": 41,
      "outputs": []
    },
    {
      "cell_type": "markdown",
      "source": [
        "###* Visualize this matrix (you may need to implement or use a utility function for visualization). (3 points)"
      ],
      "metadata": {
        "id": "mjyUyvfLEiF_"
      }
    },
    {
      "cell_type": "code",
      "source": [
        "plt.figure(figsize=(8, 6))\n",
        "sns.heatmap(conf_mat, annot=True, fmt='d', cmap='Greens', cbar=False)\n",
        "plt.xlabel('Predicted Value')\n",
        "plt.ylabel('Actual Value')\n",
        "plt.title('Confusion Matrix')\n",
        "plt.show()"
      ],
      "metadata": {
        "colab": {
          "base_uri": "https://localhost:8080/",
          "height": 564
        },
        "id": "kQNJCuPZQBSC",
        "outputId": "6c550c68-0f4f-4b8c-adc0-991484a195e1"
      },
      "execution_count": 42,
      "outputs": [
        {
          "output_type": "display_data",
          "data": {
            "text/plain": [
              "<Figure size 800x600 with 1 Axes>"
            ],
            "image/png": "[encoded data removed]"
          },
          "metadata": {}
        }
      ]
    },
    {
      "cell_type": "markdown",
      "source": [
        "#4.Pipeline Data\n",
        "Recall that there are five comment files, we would like to compile all of\n",
        "them into a single file to use in the pipeline we create in what follows"
      ],
      "metadata": {
        "id": "s5wtMnlREj6n"
      }
    },
    {
      "cell_type": "markdown",
      "source": [
        "###* Concatenate your 5 files into one using .concat. (3 points)\n"
      ],
      "metadata": {
        "id": "Zn-PnmHGEpen"
      }
    },
    {
      "cell_type": "code",
      "source": [
        "# get files url\n",
        "url_kateperry = 'https://raw.githubusercontent.com/PKpacheco/intro_ai_project_3/main/Youtube02-KatyPerry.csv'\n",
        "url_lmfao = 'https://raw.githubusercontent.com/PKpacheco/intro_ai_project_3/main/Youtube03-LMFAO.csv'\n",
        "url_eminem = 'https://raw.githubusercontent.com/PKpacheco/intro_ai_project_3/main/Youtube04-Eminem.csv'\n",
        "url_shakira = 'https://raw.githubusercontent.com/PKpacheco/intro_ai_project_3/main/Youtube05-Shakira.csv'"
      ],
      "metadata": {
        "id": "2YDjYXMAQMmM"
      },
      "execution_count": 43,
      "outputs": []
    },
    {
      "cell_type": "code",
      "source": [
        "# read files\n",
        "df_kate = pd.read_csv(url_kateperry)\n",
        "df_lmfao = pd.read_csv(url_lmfao)\n",
        "df_eminem = pd.read_csv(url_eminem)\n",
        "df_sharika = pd.read_csv(url_shakira)"
      ],
      "metadata": {
        "id": "Lk_JyMUGQhP0"
      },
      "execution_count": 44,
      "outputs": []
    },
    {
      "cell_type": "code",
      "source": [
        "# all df\n",
        "all_dataframes = [\n",
        "    df_psy,\n",
        "    df_kate,\n",
        "    df_lmfao,\n",
        "    df_eminem,\n",
        "    df_sharika\n",
        "    ]\n",
        "\n",
        "# concatenate into 1 df\n",
        "concat_df = pd.concat(all_dataframes, ignore_index=True)"
      ],
      "metadata": {
        "id": "CsIQl7KuQKrW"
      },
      "execution_count": 45,
      "outputs": []
    },
    {
      "cell_type": "markdown",
      "source": [
        "###* Provided you have concatenated the files correctly the length of your new file should be close to 2000. Output the length. (1 point)\n"
      ],
      "metadata": {
        "id": "XYOXeBAgEstp"
      }
    },
    {
      "cell_type": "code",
      "source": [
        "len_concat = len(concat_df)\n",
        "\n",
        "print(\"Length of the concatenated file:\", len_concat)"
      ],
      "metadata": {
        "colab": {
          "base_uri": "https://localhost:8080/"
        },
        "id": "VibxdwPPRGB4",
        "outputId": "1f916b12-377f-4e77-8524-606d5c8bf7e2"
      },
      "execution_count": 46,
      "outputs": [
        {
          "output_type": "stream",
          "name": "stdout",
          "text": [
            "Length of the concatenated file: 1956\n"
          ]
        }
      ]
    },
    {
      "cell_type": "markdown",
      "source": [
        "###* Check the spam-to-ham ratio in the new file; they should be balanced- about 1000 each. Output the number of spams and the number of hams. (2 points)\n"
      ],
      "metadata": {
        "id": "rIuoXe7uEtjs"
      }
    },
    {
      "cell_type": "code",
      "source": [
        "spam_count = concat_df['CLASS'].value_counts()[1]\n",
        "ham_count = concat_df['CLASS'].value_counts()[0]\n",
        "\n",
        "print(\"Number of Spam comments in concat df:\", spam_count)\n",
        "print(\"Number of Ham comments in concat df:\", ham_count)\n"
      ],
      "metadata": {
        "colab": {
          "base_uri": "https://localhost:8080/"
        },
        "id": "6orHT8gLRQbt",
        "outputId": "10436f96-6121-4796-c87b-495d8f9ad25d"
      },
      "execution_count": 47,
      "outputs": [
        {
          "output_type": "stream",
          "name": "stdout",
          "text": [
            "Number of Spam comments in concat df: 1005\n",
            "Number of Ham comments in concat df: 951\n"
          ]
        }
      ]
    },
    {
      "cell_type": "markdown",
      "source": [
        "###* Shuffle the new data and create content and label sets, and name them appropriately. (3 points)"
      ],
      "metadata": {
        "id": "v9cgGXLiEvx1"
      }
    },
    {
      "cell_type": "code",
      "source": [
        "shuff_concat_df = shuffle(concat_df, random_state=42)\n",
        "\n",
        "X_content = shuff_concat_df['CONTENT']\n",
        "y_labels = shuff_concat_df['CLASS']"
      ],
      "metadata": {
        "id": "8RTEe2KTRdyA"
      },
      "execution_count": 49,
      "outputs": []
    },
    {
      "cell_type": "code",
      "source": [
        "X_content"
      ],
      "metadata": {
        "colab": {
          "base_uri": "https://localhost:8080/"
        },
        "id": "8mrsoWfiRvg9",
        "outputId": "9900358a-9ab3-4a9a-d181-dbf8d2fd67bd"
      },
      "execution_count": 50,
      "outputs": [
        {
          "output_type": "execute_result",
          "data": {
            "text/plain": [
              "1360                                  Charlie from LOST?﻿\n",
              "1703                          BEST SONG EVER X3333333333﻿\n",
              "1146                       Aslamu Lykum... From Pakistan﻿\n",
              "1758    I absolutely adore watching football plus I’ve...\n",
              "374     I really love this video.. http://www.bubblews...\n",
              "                              ...                        \n",
              "1130    EVERYONE PLEASE SUBSCRIBE TO MY CHANNEL OR CAN...\n",
              "1294    watch youtube video &quot;EMINEM -YTMA artist ...\n",
              "860                                              Awesome﻿\n",
              "1459            i like the lyrics but not to music video﻿\n",
              "1126               I learned the shuffle because of them﻿\n",
              "Name: CONTENT, Length: 1956, dtype: object"
            ]
          },
          "metadata": {},
          "execution_count": 50
        }
      ]
    },
    {
      "cell_type": "code",
      "source": [
        "y_labels"
      ],
      "metadata": {
        "colab": {
          "base_uri": "https://localhost:8080/"
        },
        "id": "OCvwZ6ZPRwgj",
        "outputId": "ac0db903-6acb-4b13-dc43-57fa974ed9b0"
      },
      "execution_count": 51,
      "outputs": [
        {
          "output_type": "execute_result",
          "data": {
            "text/plain": [
              "1360    0\n",
              "1703    0\n",
              "1146    1\n",
              "1758    1\n",
              "374     1\n",
              "       ..\n",
              "1130    1\n",
              "1294    1\n",
              "860     0\n",
              "1459    0\n",
              "1126    0\n",
              "Name: CLASS, Length: 1956, dtype: int64"
            ]
          },
          "metadata": {},
          "execution_count": 51
        }
      ]
    },
    {
      "cell_type": "markdown",
      "source": [
        "#5.Pipeline Creation"
      ],
      "metadata": {
        "id": "EV-eKxM1EwNy"
      }
    },
    {
      "cell_type": "markdown",
      "source": [
        "###* Read the sci-kit learn documentation on Pipelines. Name 3 advantages to using a pipeline. You can use any reference you wish to answer this question, just be sure to include the reference in your response. (5 points)\n"
      ],
      "metadata": {
        "id": "mPqet3AIEygI"
      }
    },
    {
      "cell_type": "markdown",
      "source": [
        "* **Better organization**\n",
        "When you have many processes, the use of pipelines facilitates and organizes them into a sequence. The code for this process is simpler and instead of calling all the processes, you need to call only one of them and the pipeline transforms the call of one into a chain type process.\n",
        "\n",
        "* **Optimize parameters**\n",
        "Instead of updating all the parameters of all processes, when we have pipelines, they are updated simultaneously, so we can optimize the hyperparameters of countless steps at once.\n",
        "\n",
        "\n",
        "* **Data security**\n",
        "The use of a pipeline prevents data leakage between tests and when cross-validation is performed. With the use of pipeline we are sure that we will use the same samples for the entire process flow"
      ],
      "metadata": {
        "id": "j2PwSKkbUdIo"
      }
    },
    {
      "cell_type": "markdown",
      "source": [
        "References:\n",
        "\n",
        "https://scikit-learn.org/stable/modules/compose.html#combining-estimators\n",
        "\n",
        "https://signal-to-noise.xyz/post/sklearn-pipeline/\n",
        "\n",
        "https://towardsdatascience.com/why-you-should-use-scikit-learn-pipelines-8754b4d1e375\n",
        "\n",
        "\n"
      ],
      "metadata": {
        "id": "TIQfe26_TQAX"
      }
    },
    {
      "cell_type": "markdown",
      "source": [
        "###* Create a two-step pipeline with a bag-of-words step and a random forest step. (3 points)"
      ],
      "metadata": {
        "id": "1_e_UjBdE7vH"
      }
    },
    {
      "cell_type": "code",
      "source": [
        "# two steps pipeline (bow and random forest with same parameters from question 3)\n",
        "pipe_two_steps = Pipeline([\n",
        "    ('count_vectorizer', CountVectorizer()),\n",
        "    ('random_forest', RandomForestClassifier(n_estimators=50, random_state=42))\n",
        "])"
      ],
      "metadata": {
        "id": "i_ZvWxYpU9C3"
      },
      "execution_count": 53,
      "outputs": []
    },
    {
      "cell_type": "markdown",
      "source": [
        "###* Output the pipeline to display its steps. (1 point)\n"
      ],
      "metadata": {
        "id": "ysemf3vDE8tW"
      }
    },
    {
      "cell_type": "code",
      "source": [
        "# output\n",
        "print(pipe_two_steps)"
      ],
      "metadata": {
        "colab": {
          "base_uri": "https://localhost:8080/"
        },
        "id": "pEHtmaMaVe4G",
        "outputId": "cb740a25-b816-4ceb-bafe-532af4213eaf"
      },
      "execution_count": 54,
      "outputs": [
        {
          "output_type": "stream",
          "name": "stdout",
          "text": [
            "Pipeline(steps=[('count_vectorizer', CountVectorizer()),\n",
            "                ('random_forest',\n",
            "                 RandomForestClassifier(n_estimators=50, random_state=42))])\n"
          ]
        }
      ]
    },
    {
      "cell_type": "markdown",
      "source": [
        "###* Fit your pipeline with the first 1500 entries of the content and labels. Output. (3 points)\n"
      ],
      "metadata": {
        "id": "Ur-feXW7E_Ck"
      }
    },
    {
      "cell_type": "code",
      "source": [
        "# get 1500 entries\n",
        "X_content_subset = X_content[:1500]\n",
        "y_labels_subset = y_labels[:1500]\n"
      ],
      "metadata": {
        "id": "ipy_kSQjVm5s"
      },
      "execution_count": 55,
      "outputs": []
    },
    {
      "cell_type": "code",
      "source": [
        "X_content_subset.shape"
      ],
      "metadata": {
        "colab": {
          "base_uri": "https://localhost:8080/"
        },
        "id": "JMEx4E1hVwbF",
        "outputId": "a3ee0489-20b4-4691-8acf-6cd7486ef92c"
      },
      "execution_count": 58,
      "outputs": [
        {
          "output_type": "execute_result",
          "data": {
            "text/plain": [
              "(1500,)"
            ]
          },
          "metadata": {},
          "execution_count": 58
        }
      ]
    },
    {
      "cell_type": "code",
      "source": [
        "y_labels_subset.shape"
      ],
      "metadata": {
        "colab": {
          "base_uri": "https://localhost:8080/"
        },
        "id": "Tq3Wfv-eVziv",
        "outputId": "6ad58438-05e9-473d-d31f-a2607b75272b"
      },
      "execution_count": 59,
      "outputs": [
        {
          "output_type": "execute_result",
          "data": {
            "text/plain": [
              "(1500,)"
            ]
          },
          "metadata": {},
          "execution_count": 59
        }
      ]
    },
    {
      "cell_type": "code",
      "source": [
        "# Fit pipeline\n",
        "pipe_two_steps.fit(X_content_subset, y_labels_subset)"
      ],
      "metadata": {
        "colab": {
          "base_uri": "https://localhost:8080/",
          "height": 126
        },
        "id": "UeP3poEVVvy-",
        "outputId": "8acf558d-aec3-4651-d256-e88c0e26f7ce"
      },
      "execution_count": 60,
      "outputs": [
        {
          "output_type": "execute_result",
          "data": {
            "text/plain": [
              "Pipeline(steps=[('count_vectorizer', CountVectorizer()),\n",
              "                ('random_forest',\n",
              "                 RandomForestClassifier(n_estimators=50, random_state=42))])"
            ],
            "text/html": [
              "<style>#sk-container-id-1 {color: black;background-color: white;}#sk-container-id-1 pre{padding: 0;}#sk-container-id-1 div.sk-toggleable {background-color: white;}#sk-container-id-1 label.sk-toggleable__label {cursor: pointer;display: block;width: 100%;margin-bottom: 0;padding: 0.3em;box-sizing: border-box;text-align: center;}#sk-container-id-1 label.sk-toggleable__label-arrow:before {content: \"▸\";float: left;margin-right: 0.25em;color: #696969;}#sk-container-id-1 label.sk-toggleable__label-arrow:hover:before {color: black;}#sk-container-id-1 div.sk-estimator:hover label.sk-toggleable__label-arrow:before {color: black;}#sk-container-id-1 div.sk-toggleable__content {max-height: 0;max-width: 0;overflow: hidden;text-align: left;background-color: #f0f8ff;}#sk-container-id-1 div.sk-toggleable__content pre {margin: 0.2em;color: black;border-radius: 0.25em;background-color: #f0f8ff;}#sk-container-id-1 input.sk-toggleable__control:checked~div.sk-toggleable__content {max-height: 200px;max-width: 100%;overflow: auto;}#sk-container-id-1 input.sk-toggleable__control:checked~label.sk-toggleable__label-arrow:before {content: \"▾\";}#sk-container-id-1 div.sk-estimator input.sk-toggleable__control:checked~label.sk-toggleable__label {background-color: #d4ebff;}#sk-container-id-1 div.sk-label input.sk-toggleable__control:checked~label.sk-toggleable__label {background-color: #d4ebff;}#sk-container-id-1 input.sk-hidden--visually {border: 0;clip: rect(1px 1px 1px 1px);clip: rect(1px, 1px, 1px, 1px);height: 1px;margin: -1px;overflow: hidden;padding: 0;position: absolute;width: 1px;}#sk-container-id-1 div.sk-estimator {font-family: monospace;background-color: #f0f8ff;border: 1px dotted black;border-radius: 0.25em;box-sizing: border-box;margin-bottom: 0.5em;}#sk-container-id-1 div.sk-estimator:hover {background-color: #d4ebff;}#sk-container-id-1 div.sk-parallel-item::after {content: \"\";width: 100%;border-bottom: 1px solid gray;flex-grow: 1;}#sk-container-id-1 div.sk-label:hover label.sk-toggleable__label {background-color: #d4ebff;}#sk-container-id-1 div.sk-serial::before {content: \"\";position: absolute;border-left: 1px solid gray;box-sizing: border-box;top: 0;bottom: 0;left: 50%;z-index: 0;}#sk-container-id-1 div.sk-serial {display: flex;flex-direction: column;align-items: center;background-color: white;padding-right: 0.2em;padding-left: 0.2em;position: relative;}#sk-container-id-1 div.sk-item {position: relative;z-index: 1;}#sk-container-id-1 div.sk-parallel {display: flex;align-items: stretch;justify-content: center;background-color: white;position: relative;}#sk-container-id-1 div.sk-item::before, #sk-container-id-1 div.sk-parallel-item::before {content: \"\";position: absolute;border-left: 1px solid gray;box-sizing: border-box;top: 0;bottom: 0;left: 50%;z-index: -1;}#sk-container-id-1 div.sk-parallel-item {display: flex;flex-direction: column;z-index: 1;position: relative;background-color: white;}#sk-container-id-1 div.sk-parallel-item:first-child::after {align-self: flex-end;width: 50%;}#sk-container-id-1 div.sk-parallel-item:last-child::after {align-self: flex-start;width: 50%;}#sk-container-id-1 div.sk-parallel-item:only-child::after {width: 0;}#sk-container-id-1 div.sk-dashed-wrapped {border: 1px dashed gray;margin: 0 0.4em 0.5em 0.4em;box-sizing: border-box;padding-bottom: 0.4em;background-color: white;}#sk-container-id-1 div.sk-label label {font-family: monospace;font-weight: bold;display: inline-block;line-height: 1.2em;}#sk-container-id-1 div.sk-label-container {text-align: center;}#sk-container-id-1 div.sk-container {/* jupyter's `normalize.less` sets `[hidden] { display: none; }` but bootstrap.min.css set `[hidden] { display: none !important; }` so we also need the `!important` here to be able to override the default hidden behavior on the sphinx rendered scikit-learn.org. See: https://github.com/scikit-learn/scikit-learn/issues/21755 */display: inline-block !important;position: relative;}#sk-container-id-1 div.sk-text-repr-fallback {display: none;}</style><div id=\"sk-container-id-1\" class=\"sk-top-container\"><div class=\"sk-text-repr-fallback\"><pre>Pipeline(steps=[(&#x27;count_vectorizer&#x27;, CountVectorizer()),\n",
              "                (&#x27;random_forest&#x27;,\n",
              "                 RandomForestClassifier(n_estimators=50, random_state=42))])</pre><b>In a Jupyter environment, please rerun this cell to show the HTML representation or trust the notebook. <br />On GitHub, the HTML representation is unable to render, please try loading this page with nbviewer.org.</b></div><div class=\"sk-container\" hidden><div class=\"sk-item sk-dashed-wrapped\"><div class=\"sk-label-container\"><div class=\"sk-label sk-toggleable\"><input class=\"sk-toggleable__control sk-hidden--visually\" id=\"sk-estimator-id-1\" type=\"checkbox\" ><label for=\"sk-estimator-id-1\" class=\"sk-toggleable__label sk-toggleable__label-arrow\">Pipeline</label><div class=\"sk-toggleable__content\"><pre>Pipeline(steps=[(&#x27;count_vectorizer&#x27;, CountVectorizer()),\n",
              "                (&#x27;random_forest&#x27;,\n",
              "                 RandomForestClassifier(n_estimators=50, random_state=42))])</pre></div></div></div><div class=\"sk-serial\"><div class=\"sk-item\"><div class=\"sk-estimator sk-toggleable\"><input class=\"sk-toggleable__control sk-hidden--visually\" id=\"sk-estimator-id-2\" type=\"checkbox\" ><label for=\"sk-estimator-id-2\" class=\"sk-toggleable__label sk-toggleable__label-arrow\">CountVectorizer</label><div class=\"sk-toggleable__content\"><pre>CountVectorizer()</pre></div></div></div><div class=\"sk-item\"><div class=\"sk-estimator sk-toggleable\"><input class=\"sk-toggleable__control sk-hidden--visually\" id=\"sk-estimator-id-3\" type=\"checkbox\" ><label for=\"sk-estimator-id-3\" class=\"sk-toggleable__label sk-toggleable__label-arrow\">RandomForestClassifier</label><div class=\"sk-toggleable__content\"><pre>RandomForestClassifier(n_estimators=50, random_state=42)</pre></div></div></div></div></div></div></div>"
            ]
          },
          "metadata": {},
          "execution_count": 60
        }
      ]
    },
    {
      "cell_type": "markdown",
      "source": [
        "###* Use .score to score your pipeline. (2 points)\n"
      ],
      "metadata": {
        "id": "v5b-xkbWFBdm"
      }
    },
    {
      "cell_type": "code",
      "source": [
        "score_pipe = pipe_two_steps.score(X_content_subset, y_labels_subset)\n",
        "\n",
        "print(\"Pipeline Score:\", score_pipe)\n"
      ],
      "metadata": {
        "colab": {
          "base_uri": "https://localhost:8080/"
        },
        "id": "fNSW4ZNXV5Js",
        "outputId": "63135c59-6996-4418-a95d-ad905be38e49"
      },
      "execution_count": 61,
      "outputs": [
        {
          "output_type": "stream",
          "name": "stdout",
          "text": [
            "Pipeline Score: 0.9993333333333333\n"
          ]
        }
      ]
    },
    {
      "cell_type": "markdown",
      "source": [
        "###* Use your pipeline to predict whether the following two comments are spam or ham. (5 points)\n",
        "1. “what a neat video”\n",
        "2. “plz subscribe to my channel”\n"
      ],
      "metadata": {
        "id": "Br7x8alzFCXx"
      }
    },
    {
      "cell_type": "code",
      "source": [
        "# comments to predict\n",
        "comments_to_predict = [\n",
        "    \"what a neat video\",\n",
        "    \"plz subscribe to my channel\"\n",
        "    ]\n",
        "\n",
        "predict_comments = pipe_two_steps.predict(comments_to_predict)\n",
        "\n",
        "label_definition = {\n",
        "    0: \"ham\",\n",
        "    1: \"spam\"\n",
        "    }\n",
        "\n",
        "\n",
        "prediction_table = pd.DataFrame({\n",
        "    \"comment\": comments_to_predict,\n",
        "    \"prediction\": [label_definition[label] for label in predict_comments]\n",
        "})\n",
        "\n",
        "print(prediction_table)"
      ],
      "metadata": {
        "colab": {
          "base_uri": "https://localhost:8080/"
        },
        "id": "jg6kiT4fWC9U",
        "outputId": "0d2dd827-2208-4566-d3f6-c41c09e06e0c"
      },
      "execution_count": 70,
      "outputs": [
        {
          "output_type": "stream",
          "name": "stdout",
          "text": [
            "                       comment prediction\n",
            "0            what a neat video        ham\n",
            "1  plz subscribe to my channel       spam\n"
          ]
        }
      ]
    },
    {
      "cell_type": "markdown",
      "source": [
        "###* Cross-validate using your pipeline. Use cv=3. Print out the accuracies. (3 points)"
      ],
      "metadata": {
        "id": "vOVlPHTDFGRW"
      }
    },
    {
      "cell_type": "code",
      "source": [
        "# 3 folds cross\n",
        "cv_accuracies_pipe_1 = cross_val_score(\n",
        "    pipe_two_steps,\n",
        "    X_content_subset,\n",
        "    y_labels_subset,\n",
        "    cv=3,\n",
        "    scoring='accuracy')\n",
        "\n",
        "print(\"-------------------Cross-Validation accuracies with 3 Folds:\")\n",
        "for fold, accuracy in enumerate(cv_accuracies_pipe_1, 1):\n",
        "    print(f\"Fold {fold}: {accuracy:.4f}\")"
      ],
      "metadata": {
        "colab": {
          "base_uri": "https://localhost:8080/"
        },
        "id": "dQVKpsy6XVuS",
        "outputId": "8cbf3654-f7ff-44ab-f7c1-6ff863c718ac"
      },
      "execution_count": 77,
      "outputs": [
        {
          "output_type": "stream",
          "name": "stdout",
          "text": [
            "-------------------Cross-Validation accuracies with 3 Folds:\n",
            "Fold 1: 0.9500\n",
            "Fold 2: 0.9520\n",
            "Fold 3: 0.9500\n"
          ]
        }
      ]
    },
    {
      "cell_type": "markdown",
      "source": [
        "#6.Pipeline 2 Creation"
      ],
      "metadata": {
        "id": "t4N9KVW7FIUv"
      }
    },
    {
      "cell_type": "markdown",
      "source": [
        "###* Create a second pipeline named pipeline2 which includes a TfidfTransformer step.(3 points)\n"
      ],
      "metadata": {
        "id": "fKhnu9qMFJqZ"
      }
    },
    {
      "cell_type": "code",
      "source": [
        "# second pipeline\n",
        "pipeline2 = Pipeline([\n",
        "    ('count_vectorizer', CountVectorizer()),\n",
        "    ('tfidf_transformer', TfidfTransformer()),\n",
        "    ('random_forest', RandomForestClassifier(n_estimators=50, random_state=42))\n",
        "])\n"
      ],
      "metadata": {
        "id": "pbtufMouXgdG"
      },
      "execution_count": 73,
      "outputs": []
    },
    {
      "cell_type": "markdown",
      "source": [
        "###* Cross validate pipeline2 with 3 folds. Output the accuracy.(3 points)\n"
      ],
      "metadata": {
        "id": "QBUOFwXwFNtQ"
      }
    },
    {
      "cell_type": "code",
      "source": [
        "cv_accuracies_pipe_2 = cross_val_score(\n",
        "    pipeline2,\n",
        "    X_content_subset,\n",
        "    y_labels_subset,\n",
        "    cv=3,\n",
        "    scoring='accuracy'\n",
        "    )\n",
        "\n",
        "print(\"Cross-Validation accuracies for pipeline2 with 3 folds:\")\n",
        "for fold, accuracy in enumerate(cv_accuracies_pipe_2, 1):\n",
        "    print(f\"Fold {fold}: {accuracy:.4f}\")\n"
      ],
      "metadata": {
        "colab": {
          "base_uri": "https://localhost:8080/"
        },
        "id": "_b-pm7gFXzTS",
        "outputId": "1877525b-eab0-41ab-ddf2-24a5a41777d9"
      },
      "execution_count": 78,
      "outputs": [
        {
          "output_type": "stream",
          "name": "stdout",
          "text": [
            "Cross-Validation accuracies for pipeline2 with 3 folds:\n",
            "Fold 1: 0.9540\n",
            "Fold 2: 0.9460\n",
            "Fold 3: 0.9560\n"
          ]
        }
      ]
    },
    {
      "cell_type": "markdown",
      "source": [
        "###* Use the following parameter dictionary to perform a grid search. (3 points)"
      ],
      "metadata": {
        "id": "GaE2lws_FOhP"
      }
    },
    {
      "cell_type": "markdown",
      "source": [
        "![Screenshot 2023-11-06 at 8.41.51 AM.png](data:image/png;base64,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)"
      ],
      "metadata": {
        "id": "Xhk9N_MUFUNF"
      }
    },
    {
      "cell_type": "markdown",
      "source": [
        "```\n",
        "parameters = {\n",
        "    'countvectorizer__max_features': (None, 1000, 2000),\n",
        "    'countvectorizer__ngram_range': ((1,1), (1,2)),\n",
        "    'countvectorizer__stop_words': ('english', None),\n",
        "    'tfidtransformer__use_idf': (True, False),\n",
        "    'randomforestclassifier__n_estimators': (20, 50, 1000)\n",
        "}```\n",
        "\n"
      ],
      "metadata": {
        "id": "2Q53RYTOY_v5"
      }
    },
    {
      "cell_type": "markdown",
      "source": [
        "###* Perform the grid search, you can reduce n_estimators to 2 values and max_features to 1000 and 2000 to speed things up. (3 points)\n"
      ],
      "metadata": {
        "id": "AyKXPuRDElAB"
      }
    },
    {
      "cell_type": "code",
      "source": [
        "# parameters reduced\n",
        "parameters = {\n",
        "    'count_vectorizer__max_features': [1000, 2000],\n",
        "    'count_vectorizer__ngram_range': [(1, 1), (1, 2)],\n",
        "    'count_vectorizer__stop_words': ['english', None],\n",
        "    'tfidf_transformer__use_idf': [True, False],\n",
        "    'random_forest__n_estimators': [20, 50]\n",
        "}\n",
        "\n",
        "# GridSearchCV\n",
        "grid_search = GridSearchCV(pipeline2, parameters, cv=3, scoring='accuracy')\n",
        "\n",
        "# fit the gridsearch to data\n",
        "grid_search.fit(X_content_subset, y_labels_subset)\n",
        "\n",
        "# get best params and best score\n",
        "best_params = grid_search.best_params_\n",
        "best_score = grid_search.best_score_"
      ],
      "metadata": {
        "colab": {
          "base_uri": "https://localhost:8080/"
        },
        "id": "6vgtmV6dcShC",
        "outputId": "88c78375-012d-4037-ec0f-7f668eae136b"
      },
      "execution_count": 85,
      "outputs": [
        {
          "output_type": "stream",
          "name": "stdout",
          "text": [
            "best Parameters: {'count_vectorizer__max_features': 2000, 'count_vectorizer__ngram_range': (1, 2), 'count_vectorizer__stop_words': None, 'random_forest__n_estimators': 50, 'tfidf_transformer__use_idf': False}\n",
            "best Score: 0.9513333333333334\n"
          ]
        }
      ]
    },
    {
      "cell_type": "markdown",
      "source": [
        "###* Print out the best parameter settings. (1 point)"
      ],
      "metadata": {
        "id": "-wSHQ7vDFlQq"
      }
    },
    {
      "cell_type": "code",
      "source": [
        "print(\"Best Parameters:\")\n",
        "for param, value in best_params.items():\n",
        "    print(f\"---------> {param}:\", value)\n",
        "print()\n",
        "print(\"Best Score :\", best_score)"
      ],
      "metadata": {
        "colab": {
          "base_uri": "https://localhost:8080/"
        },
        "id": "WbAP68esdWPj",
        "outputId": "edf42585-9288-4224-840c-4821f89e6267"
      },
      "execution_count": 92,
      "outputs": [
        {
          "output_type": "stream",
          "name": "stdout",
          "text": [
            "Best Parameters:\n",
            "---------> count_vectorizer__max_features: 2000\n",
            "---------> count_vectorizer__ngram_range: (1, 2)\n",
            "---------> count_vectorizer__stop_words: None\n",
            "---------> random_forest__n_estimators: 50\n",
            "---------> tfidf_transformer__use_idf: False\n",
            "\n",
            "Best Score : 0.9513333333333334\n"
          ]
        }
      ]
    },
    {
      "cell_type": "markdown",
      "source": [
        "#7.TF Calculation"
      ],
      "metadata": {
        "id": "5fB8EhjQFlZd"
      }
    },
    {
      "cell_type": "markdown",
      "source": [
        "Write python code that takes as an input a list of sentences and outputs\n",
        "the TF for every term in every sentence.(7 points)\n",
        "Input: list of sentences\n",
        "Output: the term frequency for every word in every sentence\n",
        "Test Cases:\n",
        "\n",
        "\n",
        "```\n",
        "sentences = [\n",
        "            \"Python is a great programming language\",\n",
        "            \"Python can be used for a wide variety of programming tasks\",\n",
        "            \"It's easy to learn Python\"\n",
        "]\n",
        "sentences= [\n",
        "          “I love math”,\n",
        "          “Math is great”\n",
        "          “ Math rules”\n",
        "]\n",
        "```\n",
        "\n"
      ],
      "metadata": {
        "id": "RYo8bSSyFvgh"
      }
    },
    {
      "cell_type": "code",
      "source": [
        "sentences_1 = [\n",
        "            \"Python is a great programming language\",\n",
        "            \"Python can be used for a wide variety of programming tasks\",\n",
        "            \"It's easy to learn Python\"\n",
        "]\n",
        "sentences_2 = [\n",
        "          \"I love math\",\n",
        "          \"Math is great\",\n",
        "          \" Math rules\"\n",
        "]"
      ],
      "metadata": {
        "id": "GGRPgfbMeRK5"
      },
      "execution_count": 96,
      "outputs": []
    },
    {
      "cell_type": "code",
      "source": [
        "sentences_1"
      ],
      "metadata": {
        "colab": {
          "base_uri": "https://localhost:8080/"
        },
        "id": "eOLJVmOwegqF",
        "outputId": "e5f8f03d-6941-4861-d4e0-e292907fff32"
      },
      "execution_count": 97,
      "outputs": [
        {
          "output_type": "execute_result",
          "data": {
            "text/plain": [
              "['Python is a great programming language',\n",
              " 'Python can be used for a wide variety of programming tasks',\n",
              " \"It's easy to learn Python\"]"
            ]
          },
          "metadata": {},
          "execution_count": 97
        }
      ]
    },
    {
      "cell_type": "code",
      "source": [
        "sentences_2"
      ],
      "metadata": {
        "colab": {
          "base_uri": "https://localhost:8080/"
        },
        "id": "OVhFWUQreiE4",
        "outputId": "5db40e21-c4a3-454a-d244-3ca9a8241177"
      },
      "execution_count": 98,
      "outputs": [
        {
          "output_type": "execute_result",
          "data": {
            "text/plain": [
              "['I love math', 'Math is great', ' Math rules']"
            ]
          },
          "metadata": {},
          "execution_count": 98
        }
      ]
    },
    {
      "cell_type": "code",
      "source": [
        "def tokenize_sentence(sentence):\n",
        "    # tokenize and apply regex to split and remove punctuation\n",
        "    words = re.findall(r'\\w+', sentence.lower())\n",
        "    return words\n"
      ],
      "metadata": {
        "id": "T0MncmmZhL_K"
      },
      "execution_count": 111,
      "outputs": []
    },
    {
      "cell_type": "code",
      "source": [
        "def calculate_tf(sentences):\n",
        "    term_frequency = []\n",
        "\n",
        "    for sentence in sentences:\n",
        "        words = tokenize_sentence(sentence)\n",
        "        tf = Counter(words)\n",
        "        term_frequency.append(tf)\n",
        "\n",
        "    return term_frequency\n"
      ],
      "metadata": {
        "id": "NgPARDW4hORa"
      },
      "execution_count": 112,
      "outputs": []
    },
    {
      "cell_type": "code",
      "source": [
        "def output_term_frequency(sentences, set_name):\n",
        "    term_frequency = calculate_tf(sentences)\n",
        "    print(f\"{set_name}:\")\n",
        "\n",
        "    for i, tf in enumerate(term_frequency, 1):\n",
        "        print(f\"--------------------Term Frequency for Sentence {i}:\")\n",
        "        for term, frequency in tf.items():\n",
        "            print(f\"{term}: {frequency}\")\n",
        "        print()"
      ],
      "metadata": {
        "id": "HhGY5SOhfSsi"
      },
      "execution_count": 113,
      "outputs": []
    },
    {
      "cell_type": "code",
      "source": [
        "# calculate and print frequency for set_1\n",
        "output_term_frequency(sentences_1, \"Sentences Set 1\")"
      ],
      "metadata": {
        "colab": {
          "base_uri": "https://localhost:8080/"
        },
        "id": "HxdFS3pDfjMc",
        "outputId": "87c5bcfe-fed0-412e-bfe9-424c3e26e52c"
      },
      "execution_count": 114,
      "outputs": [
        {
          "output_type": "stream",
          "name": "stdout",
          "text": [
            "Sentences Set 1:\n",
            "--------------------Term Frequency for Sentence 1:\n",
            "python: 1\n",
            "is: 1\n",
            "a: 1\n",
            "great: 1\n",
            "programming: 1\n",
            "language: 1\n",
            "\n",
            "--------------------Term Frequency for Sentence 2:\n",
            "python: 1\n",
            "can: 1\n",
            "be: 1\n",
            "used: 1\n",
            "for: 1\n",
            "a: 1\n",
            "wide: 1\n",
            "variety: 1\n",
            "of: 1\n",
            "programming: 1\n",
            "tasks: 1\n",
            "\n",
            "--------------------Term Frequency for Sentence 3:\n",
            "it: 1\n",
            "s: 1\n",
            "easy: 1\n",
            "to: 1\n",
            "learn: 1\n",
            "python: 1\n",
            "\n"
          ]
        }
      ]
    },
    {
      "cell_type": "code",
      "source": [
        "# calculate and print frequency for set_2\n",
        "output_term_frequency(sentences_2, \"Sentences Set 2\")"
      ],
      "metadata": {
        "colab": {
          "base_uri": "https://localhost:8080/"
        },
        "id": "bTvs5iN0fhCJ",
        "outputId": "790c365d-36d3-4117-be1e-a30416724c8e"
      },
      "execution_count": 115,
      "outputs": [
        {
          "output_type": "stream",
          "name": "stdout",
          "text": [
            "Sentences Set 2:\n",
            "--------------------Term Frequency for Sentence 1:\n",
            "i: 1\n",
            "love: 1\n",
            "math: 1\n",
            "\n",
            "--------------------Term Frequency for Sentence 2:\n",
            "math: 1\n",
            "is: 1\n",
            "great: 1\n",
            "\n",
            "--------------------Term Frequency for Sentence 3:\n",
            "math: 1\n",
            "rules: 1\n",
            "\n"
          ]
        }
      ]
    },
    {
      "cell_type": "markdown",
      "source": [
        "#8.IDF Calculation:"
      ],
      "metadata": {
        "id": "oZxp2MjQF9GZ"
      }
    },
    {
      "cell_type": "markdown",
      "source": [
        "Write Python code that calculates the inverse document frequency for a\n",
        "list of sentences. (8 points)\n",
        "Inputs: list of sentences\n",
        "Outputs: inverse document frequency for each word in the list of sentences.\n",
        "Test Cases:\n",
        "\n",
        "\n",
        "\n",
        "```\n",
        "sentences = [\n",
        "            \"Python is a great programming language\",\n",
        "            \"Python can be used for a wide variety of programming tasks\",\n",
        "            \"It's easy to learn Python\"\n",
        "]\n",
        "sentences= [\n",
        "          “I love math”,\n",
        "          “Math is great”\n",
        "          “ Math rules”\n",
        "]\n",
        "```\n",
        "\n"
      ],
      "metadata": {
        "id": "Bd3exNWPGBwb"
      }
    },
    {
      "cell_type": "code",
      "source": [
        "def calculate_idf(sentences):\n",
        "    words_in_sentences = set()\n",
        "    for sentence in sentences:\n",
        "        words = tokenize_sentence(sentence)\n",
        "        words_in_sentences.update(words)\n",
        "\n",
        "    idf = {}\n",
        "    total_sentences = len(sentences)\n",
        "\n",
        "    for word in words_in_sentences:\n",
        "        sentences_containing_word = sum(1 for sentence in sentences if word in tokenize_sentence(sentence))\n",
        "        idf[word] = math.log(total_sentences / (sentences_containing_word + 1))\n",
        "\n",
        "    return idf"
      ],
      "metadata": {
        "id": "4iy49wJwgkBJ"
      },
      "execution_count": 116,
      "outputs": []
    },
    {
      "cell_type": "code",
      "source": [
        "def output_idf(sentences, set_name):\n",
        "    idf = calculate_idf(sentences)\n",
        "\n",
        "    print(f\"{set_name}:\")\n",
        "    for i, sentence in enumerate(sentences, 1):\n",
        "        print(f\"--------------------IDF for Sentence {i}:\")\n",
        "        words = tokenize_sentence(sentence)\n",
        "        for word in words:\n",
        "            print(f\"'{word}': {idf[word]}\")\n",
        "        print()"
      ],
      "metadata": {
        "id": "6bgnwaLIjMsn"
      },
      "execution_count": 127,
      "outputs": []
    },
    {
      "cell_type": "code",
      "source": [
        "# calculate and print frequency for set_1\n",
        "output_idf(sentences_1, \"Sentences Set 1\")"
      ],
      "metadata": {
        "colab": {
          "base_uri": "https://localhost:8080/"
        },
        "id": "FDRx47y_i5pa",
        "outputId": "d8d8e091-de21-495c-a8b8-d4184f74f8aa"
      },
      "execution_count": 128,
      "outputs": [
        {
          "output_type": "stream",
          "name": "stdout",
          "text": [
            "Sentences Set 1:\n",
            "--------------------IDF for Sentence 1:\n",
            "'python': -0.2876820724517809\n",
            "'is': 0.4054651081081644\n",
            "'a': 0.0\n",
            "'great': 0.4054651081081644\n",
            "'programming': 0.0\n",
            "'language': 0.4054651081081644\n",
            "\n",
            "--------------------IDF for Sentence 2:\n",
            "'python': -0.2876820724517809\n",
            "'can': 0.4054651081081644\n",
            "'be': 0.4054651081081644\n",
            "'used': 0.4054651081081644\n",
            "'for': 0.4054651081081644\n",
            "'a': 0.0\n",
            "'wide': 0.4054651081081644\n",
            "'variety': 0.4054651081081644\n",
            "'of': 0.4054651081081644\n",
            "'programming': 0.0\n",
            "'tasks': 0.4054651081081644\n",
            "\n",
            "--------------------IDF for Sentence 3:\n",
            "'it': 0.4054651081081644\n",
            "'s': 0.4054651081081644\n",
            "'easy': 0.4054651081081644\n",
            "'to': 0.4054651081081644\n",
            "'learn': 0.4054651081081644\n",
            "'python': -0.2876820724517809\n",
            "\n"
          ]
        }
      ]
    },
    {
      "cell_type": "code",
      "source": [
        "# calculate and print frequency for set_2\n",
        "output_idf(sentences_2, \"Sentences Set 2\")"
      ],
      "metadata": {
        "colab": {
          "base_uri": "https://localhost:8080/"
        },
        "id": "j8Nb6z9qjhCr",
        "outputId": "49f3c4ec-6d94-4602-9f34-15696709315f"
      },
      "execution_count": 129,
      "outputs": [
        {
          "output_type": "stream",
          "name": "stdout",
          "text": [
            "Sentences Set 2:\n",
            "--------------------IDF for Sentence 1:\n",
            "'i': 0.4054651081081644\n",
            "'love': 0.4054651081081644\n",
            "'math': -0.2876820724517809\n",
            "\n",
            "--------------------IDF for Sentence 2:\n",
            "'math': -0.2876820724517809\n",
            "'is': 0.4054651081081644\n",
            "'great': 0.4054651081081644\n",
            "\n",
            "--------------------IDF for Sentence 3:\n",
            "'math': -0.2876820724517809\n",
            "'rules': 0.4054651081081644\n",
            "\n"
          ]
        }
      ]
    }
  ]
}